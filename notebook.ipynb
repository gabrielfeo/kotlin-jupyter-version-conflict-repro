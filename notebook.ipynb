{
 "cells": [
  {
   "cell_type": "code",
   "execution_count": 1,
   "metadata": {
    "ExecuteTime": {
     "end_time": "2025-07-31T18:50:04.902553Z",
     "start_time": "2025-07-31T18:50:03.625049Z"
    }
   },
   "outputs": [
    {
     "name": "stdout",
     "output_type": "stream",
     "text": [
      "8 new paths were added to classpath:\n",
      "/Users/gfeo/.m2/repository/com/example/example-library/SNAPSHOT/example-library-SNAPSHOT.jar\n",
      "/Users/gfeo/.m2/repository/com/squareup/moshi/moshi/1.15.2/moshi-1.15.2.jar\n",
      "/Users/gfeo/.m2/repository/com/squareup/okhttp3/okhttp-jvm/5.1.0/okhttp-jvm-5.1.0.jar\n",
      "/Users/gfeo/.m2/repository/com/squareup/okio/okio-jvm/3.15.0/okio-jvm-3.15.0.jar\n",
      "/Users/gfeo/.m2/repository/org/jetbrains/annotations/13.0/annotations-13.0.jar\n",
      "/Users/gfeo/.m2/repository/org/jetbrains/kotlin/kotlin-stdlib-jdk7/1.8.21/kotlin-stdlib-jdk7-1.8.21.jar\n",
      "/Users/gfeo/.m2/repository/org/jetbrains/kotlin/kotlin-stdlib-jdk8/1.8.21/kotlin-stdlib-jdk8-1.8.21.jar\n",
      "/Users/gfeo/.m2/repository/org/jetbrains/kotlin/kotlin-stdlib/2.1.20/kotlin-stdlib-2.1.20.jar\n",
      "Current classpath size: 17\n",
      "\n"
     ]
    },
    {
     "name": "stdout",
     "output_type": "stream",
     "text": [
      "/Users/gfeo/.m2/repository/com/example/example-library/SNAPSHOT/example-library-SNAPSHOT.jar\n"
     ]
    },
    {
     "name": "stdout",
     "output_type": "stream",
     "text": [
      "/Users/gfeo/.m2/repository/com/squareup/moshi/moshi/1.15.2/moshi-1.15.2.jar\n"
     ]
    },
    {
     "name": "stdout",
     "output_type": "stream",
     "text": [
      "/Users/gfeo/.m2/repository/com/squareup/okhttp3/okhttp-jvm/5.1.0/okhttp-jvm-5.1.0.jar\n"
     ]
    },
    {
     "name": "stdout",
     "output_type": "stream",
     "text": [
      "/Users/gfeo/.m2/repository/com/squareup/okio/okio-jvm/3.15.0/okio-jvm-3.15.0.jar\n"
     ]
    },
    {
     "name": "stdout",
     "output_type": "stream",
     "text": [
      "/Users/gfeo/.m2/repository/org/jetbrains/annotations/13.0/annotations-13.0.jar\n"
     ]
    },
    {
     "name": "stdout",
     "output_type": "stream",
     "text": [
      "/Users/gfeo/.m2/repository/org/jetbrains/kotlin/kotlin-stdlib-jdk7/1.8.21/kotlin-stdlib-jdk7-1.8.21.jar\n"
     ]
    },
    {
     "name": "stdout",
     "output_type": "stream",
     "text": [
      "/Users/gfeo/.m2/repository/org/jetbrains/kotlin/kotlin-stdlib-jdk8/1.8.21/kotlin-stdlib-jdk8-1.8.21.jar\n"
     ]
    },
    {
     "name": "stdout",
     "output_type": "stream",
     "text": [
      "/Users/gfeo/.m2/repository/org/jetbrains/kotlin/kotlin-stdlib/2.1.20/kotlin-stdlib-2.1.20.jar\n"
     ]
    },
    {
     "name": "stdout",
     "output_type": "stream",
     "text": [
      "Current classpath size: 17\n",
      "\n"
     ]
    }
   ],
   "source": [
    "%trackClasspath on\n",
    "\n",
    "import java.io.File\n",
    "\n",
    "USE {\n",
    "    repositories {\n",
    "        maven {\n",
    "            url = File(\"${System.getProperty(\"user.home\")}/.m2/repository\").toURI().toString()\n",
    "        }\n",
    "    }\n",
    "    dependencies {\n",
    "        implementation(\"com.example:example-library:SNAPSHOT\")\n",
    "    }\n",
    "}"
   ]
  },
  {
   "cell_type": "code",
   "execution_count": 2,
   "metadata": {
    "ExecuteTime": {
     "end_time": "2025-07-31T18:50:05.550864Z",
     "start_time": "2025-07-31T18:50:04.932544Z"
    }
   },
   "outputs": [
    {
     "name": "stdout",
     "output_type": "stream",
     "text": [
      "kotlin.Unit\n"
     ]
    }
   ],
   "source": [
    "import com.example.App\n",
    "\n",
    "println(App().sendHttpRequest())"
   ]
  }
 ],
 "metadata": {
  "kernelspec": {
   "display_name": "Kotlin",
   "language": "kotlin",
   "name": "kotlin"
  },
  "language_info": {
   "codemirror_mode": "text/x-kotlin",
   "file_extension": ".kt",
   "mimetype": "text/x-kotlin",
   "name": "kotlin",
   "nbconvert_exporter": "",
   "pygments_lexer": "kotlin",
   "version": "2.3.0-dev-200"
  }
 },
 "nbformat": 4,
 "nbformat_minor": 4
}
