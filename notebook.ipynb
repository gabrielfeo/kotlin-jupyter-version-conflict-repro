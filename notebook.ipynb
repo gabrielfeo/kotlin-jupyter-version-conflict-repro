{
 "cells": [
  {
   "cell_type": "code",
   "execution_count": 1,
   "metadata": {
    "ExecuteTime": {
     "end_time": "2025-07-31T18:50:04.902553Z",
     "start_time": "2025-07-31T18:50:03.625049Z"
    }
   },
   "outputs": [
    {
     "name": "stdout",
     "output_type": "stream",
     "text": [
      "8 new paths were added to classpath:\n",
      "/Users/gfeo/.m2/repository/com/example/example-library/SNAPSHOT/example-library-SNAPSHOT.jar\n",
      "/Users/gfeo/.m2/repository/com/squareup/moshi/moshi/1.15.2/moshi-1.15.2.jar\n",
      "/Users/gfeo/.m2/repository/com/squareup/okhttp3/okhttp-jvm/5.1.0/okhttp-jvm-5.1.0.jar\n",
      "/Users/gfeo/.m2/repository/com/squareup/okio/okio-jvm/3.7.0/okio-jvm-3.7.0.jar\n",
      "/Users/gfeo/.m2/repository/org/jetbrains/annotations/13.0/annotations-13.0.jar\n",
      "/Users/gfeo/.m2/repository/org/jetbrains/kotlin/kotlin-stdlib-jdk7/1.8.21/kotlin-stdlib-jdk7-1.8.21.jar\n",
      "/Users/gfeo/.m2/repository/org/jetbrains/kotlin/kotlin-stdlib-jdk8/1.8.21/kotlin-stdlib-jdk8-1.8.21.jar\n",
      "/Users/gfeo/.m2/repository/org/jetbrains/kotlin/kotlin-stdlib/2.1.20/kotlin-stdlib-2.1.20.jar\n",
      "Current classpath size: 17\n",
      "\n"
     ]
    },
    {
     "name": "stdout",
     "output_type": "stream",
     "text": [
      "/Users/gfeo/.m2/repository/com/example/example-library/SNAPSHOT/example-library-SNAPSHOT.jar\n"
     ]
    },
    {
     "name": "stdout",
     "output_type": "stream",
     "text": [
      "/Users/gfeo/.m2/repository/com/squareup/moshi/moshi/1.15.2/moshi-1.15.2.jar\n"
     ]
    },
    {
     "name": "stdout",
     "output_type": "stream",
     "text": [
      "/Users/gfeo/.m2/repository/com/squareup/okhttp3/okhttp-jvm/5.1.0/okhttp-jvm-5.1.0.jar\n"
     ]
    },
    {
     "name": "stdout",
     "output_type": "stream",
     "text": [
      "/Users/gfeo/.m2/repository/com/squareup/okio/okio-jvm/3.15.0/okio-jvm-3.15.0.jar\n"
     ]
    },
    {
     "name": "stdout",
     "output_type": "stream",
     "text": [
      "/Users/gfeo/.m2/repository/org/jetbrains/annotations/13.0/annotations-13.0.jar\n"
     ]
    },
    {
     "name": "stdout",
     "output_type": "stream",
     "text": [
      "/Users/gfeo/.m2/repository/org/jetbrains/kotlin/kotlin-stdlib-jdk7/1.8.21/kotlin-stdlib-jdk7-1.8.21.jar\n"
     ]
    },
    {
     "name": "stdout",
     "output_type": "stream",
     "text": [
      "/Users/gfeo/.m2/repository/org/jetbrains/kotlin/kotlin-stdlib-jdk8/1.8.21/kotlin-stdlib-jdk8-1.8.21.jar\n"
     ]
    },
    {
     "name": "stdout",
     "output_type": "stream",
     "text": [
      "/Users/gfeo/.m2/repository/org/jetbrains/kotlin/kotlin-stdlib/2.1.20/kotlin-stdlib-2.1.20.jar\n"
     ]
    },
    {
     "name": "stdout",
     "output_type": "stream",
     "text": [
      "Current classpath size: 17\n",
      "\n"
     ]
    }
   ],
   "source": [
    "%trackClasspath on\n",
    "\n",
    "import java.io.File\n",
    "\n",
    "USE {\n",
    "    repositories {\n",
    "        maven {\n",
    "            url = File(\"${System.getProperty(\"user.home\")}/.m2/repository\").toURI().toString()\n",
    "        }\n",
    "    }\n",
    "    dependencies {\n",
    "        implementation(\"com.example:example-library:SNAPSHOT\")\n",
    "    }\n",
    "}"
   ]
  },
  {
   "cell_type": "code",
   "execution_count": 2,
   "metadata": {
    "ExecuteTime": {
     "end_time": "2025-07-31T18:50:05.550864Z",
     "start_time": "2025-07-31T18:50:04.932544Z"
    }
   },
   "outputs": [
    {
     "additionalInfo": {},
     "ename": "java.lang.NoClassDefFoundError",
     "evalue": "okio/Socket",
     "execution_count": 2,
     "output_type": "error",
     "status": "error",
     "traceback": [
      "java.lang.NoClassDefFoundError: okio/Socket",
      "\tat java.base/java.lang.ClassLoader.defineClass1(Native Method)",
      "\tat java.base/java.lang.ClassLoader.defineClass(ClassLoader.java:1026)",
      "\tat java.base/java.security.SecureClassLoader.defineClass(SecureClassLoader.java:150)",
      "\tat java.base/java.net.URLClassLoader.defineClass(URLClassLoader.java:524)",
      "\tat java.base/java.net.URLClassLoader$1.run(URLClassLoader.java:427)",
      "\tat java.base/java.net.URLClassLoader$1.run(URLClassLoader.java:421)",
      "\tat java.base/java.security.AccessController.doPrivileged(AccessController.java:714)",
      "\tat java.base/java.net.URLClassLoader.findClass(URLClassLoader.java:420)",
      "\tat java.base/java.lang.ClassLoader.loadClass(ClassLoader.java:595)",
      "\tat java.base/java.lang.ClassLoader.loadClass(ClassLoader.java:528)",
      "\tat okhttp3.internal.http2.Http2Connection.newStream(Http2Connection.kt:257)",
      "\tat okhttp3.internal.http2.Http2Connection.newStream(Http2Connection.kt:233)",
      "\tat okhttp3.internal.http2.Http2ExchangeCodec.writeRequestHeaders(Http2ExchangeCodec.kt:80)",
      "\tat okhttp3.internal.connection.Exchange.writeRequestHeaders(Exchange.kt:64)",
      "\tat okhttp3.internal.http.CallServerInterceptor.intercept(CallServerInterceptor.kt:46)",
      "\tat okhttp3.internal.http.RealInterceptorChain.proceed(RealInterceptorChain.kt:126)",
      "\tat com.example.App$sendHttpRequest$$inlined$-addNetworkInterceptor$1.intercept(OkHttpClient.kt:1401)",
      "\tat okhttp3.internal.http.RealInterceptorChain.proceed(RealInterceptorChain.kt:126)",
      "\tat okhttp3.internal.connection.ConnectInterceptor.intercept(ConnectInterceptor.kt:34)",
      "\tat okhttp3.internal.http.RealInterceptorChain.proceed(RealInterceptorChain.kt:126)",
      "\tat okhttp3.internal.cache.CacheInterceptor.intercept(CacheInterceptor.kt:101)",
      "\tat okhttp3.internal.http.RealInterceptorChain.proceed(RealInterceptorChain.kt:126)",
      "\tat okhttp3.internal.http.BridgeInterceptor.intercept(BridgeInterceptor.kt:85)",
      "\tat okhttp3.internal.http.RealInterceptorChain.proceed(RealInterceptorChain.kt:126)",
      "\tat okhttp3.internal.http.RetryAndFollowUpInterceptor.intercept(RetryAndFollowUpInterceptor.kt:74)",
      "\tat okhttp3.internal.http.RealInterceptorChain.proceed(RealInterceptorChain.kt:126)",
      "\tat okhttp3.internal.connection.RealCall.getResponseWithInterceptorChain$okhttp(RealCall.kt:208)",
      "\tat okhttp3.internal.connection.RealCall.execute(RealCall.kt:160)",
      "\tat com.example.App.sendHttpRequest(App.kt:18)",
      "\tat Line_2_jupyter.<init>(Line_2.jupyter.kts:3) at Cell In[2], line 3",
      "\tat java.base/jdk.internal.reflect.DirectConstructorHandleAccessor.newInstance(DirectConstructorHandleAccessor.java:62)",
      "\tat java.base/java.lang.reflect.Constructor.newInstanceWithCaller(Constructor.java:501)",
      "\tat java.base/java.lang.reflect.Constructor.newInstance(Constructor.java:485)",
      "\tat kotlin.script.experimental.jvm.BasicJvmScriptEvaluator.evalWithConfigAndOtherScriptsResults(BasicJvmScriptEvaluator.kt:122)",
      "\tat kotlin.script.experimental.jvm.BasicJvmScriptEvaluator.invoke$suspendImpl(BasicJvmScriptEvaluator.kt:48)",
      "\tat kotlin.script.experimental.jvm.BasicJvmScriptEvaluator.invoke(BasicJvmScriptEvaluator.kt)",
      "\tat kotlin.script.experimental.jvm.BasicJvmReplEvaluator.eval(BasicJvmReplEvaluator.kt:49)",
      "\tat org.jetbrains.kotlinx.jupyter.repl.impl.InternalEvaluatorImpl$eval$resultWithDiagnostics$1.invokeSuspend(InternalEvaluatorImpl.kt:137)",
      "\tat kotlin.coroutines.jvm.internal.BaseContinuationImpl.resumeWith(ContinuationImpl.kt:34)",
      "\tat kotlinx.coroutines.DispatchedTask.run(DispatchedTask.kt:100)",
      "\tat kotlinx.coroutines.EventLoopImplBase.processNextEvent(EventLoop.common.kt:263)",
      "\tat kotlinx.coroutines.BlockingCoroutine.joinBlocking(Builders.kt:94)",
      "\tat kotlinx.coroutines.BuildersKt__BuildersKt.runBlocking(Builders.kt:70)",
      "\tat kotlinx.coroutines.BuildersKt.runBlocking(Unknown Source)",
      "\tat kotlinx.coroutines.BuildersKt__BuildersKt.runBlocking$default(Builders.kt:48)",
      "\tat kotlinx.coroutines.BuildersKt.runBlocking$default(Unknown Source)",
      "\tat org.jetbrains.kotlinx.jupyter.repl.impl.InternalEvaluatorImpl.eval(InternalEvaluatorImpl.kt:137)",
      "\tat org.jetbrains.kotlinx.jupyter.repl.impl.CellExecutorImpl.execute_L4Nmkdk$lambda$0$0(CellExecutorImpl.kt:80)",
      "\tat org.jetbrains.kotlinx.jupyter.repl.impl.ReplForJupyterImpl.withHost(ReplForJupyterImpl.kt:793)",
      "\tat org.jetbrains.kotlinx.jupyter.repl.impl.CellExecutorImpl.execute-L4Nmkdk(CellExecutorImpl.kt:78)",
      "\tat org.jetbrains.kotlinx.jupyter.repl.execution.CellExecutor.execute-L4Nmkdk$default(CellExecutor.kt:14)",
      "\tat org.jetbrains.kotlinx.jupyter.repl.impl.ReplForJupyterImpl.evaluateUserCode-wNURfNM(ReplForJupyterImpl.kt:618)",
      "\tat org.jetbrains.kotlinx.jupyter.repl.impl.ReplForJupyterImpl.evalExImpl(ReplForJupyterImpl.kt:476)",
      "\tat org.jetbrains.kotlinx.jupyter.repl.impl.ReplForJupyterImpl.evalEx$lambda$0(ReplForJupyterImpl.kt:470)",
      "\tat org.jetbrains.kotlinx.jupyter.repl.impl.ReplForJupyterImpl.withEvalContext(ReplForJupyterImpl.kt:452)",
      "\tat org.jetbrains.kotlinx.jupyter.repl.impl.ReplForJupyterImpl.evalEx(ReplForJupyterImpl.kt:469)",
      "\tat org.jetbrains.kotlinx.jupyter.messaging.IdeCompatibleMessageRequestProcessor.processExecuteRequest$lambda$0$0$0(IdeCompatibleMessageRequestProcessor.kt:160)",
      "\tat org.jetbrains.kotlinx.jupyter.streams.BlockingSubstitutionEngine.withDataSubstitution(SubstitutionEngine.kt:123)",
      "\tat org.jetbrains.kotlinx.jupyter.streams.StreamSubstitutionManager.withSubstitutedStreams(StreamSubstitutionManager.kt:118)",
      "\tat org.jetbrains.kotlinx.jupyter.messaging.IdeCompatibleMessageRequestProcessor.withForkedIn(IdeCompatibleMessageRequestProcessor.kt:350)",
      "\tat org.jetbrains.kotlinx.jupyter.messaging.IdeCompatibleMessageRequestProcessor.evalWithIO$lambda$0$0(IdeCompatibleMessageRequestProcessor.kt:363)",
      "\tat org.jetbrains.kotlinx.jupyter.streams.BlockingSubstitutionEngine.withDataSubstitution(SubstitutionEngine.kt:123)",
      "\tat org.jetbrains.kotlinx.jupyter.streams.StreamSubstitutionManager.withSubstitutedStreams(StreamSubstitutionManager.kt:118)",
      "\tat org.jetbrains.kotlinx.jupyter.messaging.IdeCompatibleMessageRequestProcessor.withForkedErr(IdeCompatibleMessageRequestProcessor.kt:340)",
      "\tat org.jetbrains.kotlinx.jupyter.messaging.IdeCompatibleMessageRequestProcessor.evalWithIO$lambda$0(IdeCompatibleMessageRequestProcessor.kt:362)",
      "\tat org.jetbrains.kotlinx.jupyter.streams.BlockingSubstitutionEngine.withDataSubstitution(SubstitutionEngine.kt:123)",
      "\tat org.jetbrains.kotlinx.jupyter.streams.StreamSubstitutionManager.withSubstitutedStreams(StreamSubstitutionManager.kt:118)",
      "\tat org.jetbrains.kotlinx.jupyter.messaging.IdeCompatibleMessageRequestProcessor.withForkedOut(IdeCompatibleMessageRequestProcessor.kt:333)",
      "\tat org.jetbrains.kotlinx.jupyter.messaging.IdeCompatibleMessageRequestProcessor.evalWithIO(IdeCompatibleMessageRequestProcessor.kt:361)",
      "\tat org.jetbrains.kotlinx.jupyter.messaging.IdeCompatibleMessageRequestProcessor.processExecuteRequest$lambda$0$0(IdeCompatibleMessageRequestProcessor.kt:159)",
      "\tat org.jetbrains.kotlinx.jupyter.execution.JupyterExecutorImpl$Task.execute(JupyterExecutorImpl.kt:41)",
      "\tat org.jetbrains.kotlinx.jupyter.execution.JupyterExecutorImpl.executorThread$lambda$0(JupyterExecutorImpl.kt:81)",
      "\tat kotlin.concurrent.ThreadsKt$thread$thread$1.run(Thread.kt:30)",
      "Caused by: java.lang.ClassNotFoundException: okio.Socket",
      "\tat java.base/java.net.URLClassLoader.findClass(URLClassLoader.java:445)",
      "\tat java.base/java.lang.ClassLoader.loadClass(ClassLoader.java:595)",
      "\tat java.base/java.lang.ClassLoader.loadClass(ClassLoader.java:528)",
      "\t... 73 more",
      "",
      "java.lang.NoClassDefFoundError: okio/Socket",
      "at Cell In[2], line 3"
     ]
    }
   ],
   "source": [
    "import com.example.App\n",
    "\n",
    "println(App().sendHttpRequest())"
   ]
  }
 ],
 "metadata": {
  "kernelspec": {
   "display_name": "Kotlin",
   "language": "kotlin",
   "name": "kotlin"
  },
  "language_info": {
   "codemirror_mode": "text/x-kotlin",
   "file_extension": ".kt",
   "mimetype": "text/x-kotlin",
   "name": "kotlin",
   "nbconvert_exporter": "",
   "pygments_lexer": "kotlin",
   "version": "2.3.0-dev-200"
  }
 },
 "nbformat": 4,
 "nbformat_minor": 4
}
